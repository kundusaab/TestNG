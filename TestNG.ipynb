{
 "cells": [
  {
   "cell_type": "code",
   "execution_count": 17,
   "id": "5aeae4d7",
   "metadata": {},
   "outputs": [
    {
     "name": "stdout",
     "output_type": "stream",
     "text": [
      "4316.3\n"
     ]
    }
   ],
   "source": [
    "# Anubhav Kundu \n",
    "# MSc.IT\n",
    "# Lovely Professional University ,jalandhar \n",
    "# Passing out year -2023\n",
    "# Phone number- 77206005591\n",
    "# email id:- 1anubhavkundu@gmail.com\n",
    "def gprice (pd):\n",
    "    if (pd[0]>=500):\n",
    "        pd[0]=pd[0]*0.95\n",
    "    return (pd[0]*pd[1]*pd[2])/100\n",
    "\n",
    "lt= [1100,18,1]\n",
    "um= [900,12,2]\n",
    "ci= [200,28,3]\n",
    "hn= [100,0,4]\n",
    "#discount if unit prce is more than 500\n",
    "#gst lt = gst (lt)\n",
    "#gst um = gst (um)\n",
    "#gst ci= gst (ci)\n",
    "#gst_hn = gst (hn)\n",
    "prc_lt = gprice(lt) + lt[0]*lt[2]\n",
    "prc_um = gprice(um) + um[0]*um[2]\n",
    "prc_ci = gprice(ci) + ci[0]*ci[2] \n",
    "prc_hn = gprice(hn) + hn[0]*hn[2]\n",
    "total_price = prc_lt + prc_um + prc_ci + prc_hn\n",
    "print(total_price)"
   ]
  },
  {
   "cell_type": "code",
   "execution_count": null,
   "id": "95fdc436",
   "metadata": {},
   "outputs": [],
   "source": []
  }
 ],
 "metadata": {
  "kernelspec": {
   "display_name": "Python 3 (ipykernel)",
   "language": "python",
   "name": "python3"
  },
  "language_info": {
   "codemirror_mode": {
    "name": "ipython",
    "version": 3
   },
   "file_extension": ".py",
   "mimetype": "text/x-python",
   "name": "python",
   "nbconvert_exporter": "python",
   "pygments_lexer": "ipython3",
   "version": "3.9.12"
  }
 },
 "nbformat": 4,
 "nbformat_minor": 5
}
